{
 "cells": [
  {
   "cell_type": "code",
   "execution_count": null,
   "metadata": {},
   "outputs": [],
   "source": [
    "import io\n",
    "\n",
    "import numpy as np\n",
    "import pandas as pd\n",
    "import plotly_express as px"
   ]
  },
  {
   "cell_type": "code",
   "execution_count": null,
   "metadata": {},
   "outputs": [],
   "source": [
    "# MASTER ONLY\n",
    "import ast\n",
    "# imports %%solution, %%submission, %%template, %%inlinetest, %%studenttest, %autotest\n",
    "%load_ext prog_edu_assistant_tools.magics\n",
    "from prog_edu_assistant_tools.magics import report, autotest"
   ]
  },
  {
   "cell_type": "markdown",
   "metadata": {},
   "source": [
    "# Data frames 2. 可視化 (Visualization)\n",
    "\n",
    "```\n",
    "# ASSIGNMENT METADATA\n",
    "assignment_id: \"DataFrame2\"\n",
    "```"
   ]
  },
  {
   "cell_type": "markdown",
   "metadata": {},
   "source": [
    "**lang:en**\n",
    "In this unit, we will get acquainted with how to visualize tidy data frames\n",
    "using the library `plotly_express`.\n",
    "\n",
    "Let's start with reading the data from a CSV file and peeking inside."
   ]
  },
  {
   "cell_type": "markdown",
   "metadata": {},
   "source": [
    "**lang:ja** この講義では、データフレームの可視化を紹介します。`plotly_express`というライブラリを使用します。\n",
    "\n",
    "まずはデータをCSVファイルから読み込みましょう。"
   ]
  },
  {
   "cell_type": "code",
   "execution_count": null,
   "metadata": {},
   "outputs": [],
   "source": [
    "# CSVファイルからデータを読み込みましょう。 Read the data from CSV file.\n",
    "df = pd.read_csv('data/16-July-2019-Tokyo-hourly.csv')\n",
    "print(\"行数は %d です\" % len(df))\n",
    "print(df.dtypes)\n",
    "df.head()"
   ]
  },
  {
   "cell_type": "markdown",
   "metadata": {},
   "source": [
    "## Visualization with plotly_express\n",
    "**lang:en**\n",
    "\n",
    "Today we will use the visualization library called Plotly Express, which is designed to make visualization very easy and concise, provided the data frame is _tidy_. To get the access to Plotly Express, you need to import it as follows:\n",
    "\n",
    "```python\n",
    "import plotly_express as px\n",
    "```\n",
    "\n",
    "If you get import errors at this point, you may need to install the library. The details of installation may differ depending on the platform you are using. Here is the example command line with Pip:\n",
    "\n",
    "```\n",
    "pip install plotly_express\n",
    "```\n",
    "\n",
    "With anaconda, enter the following installation command in the conda shell:\n",
    "\n",
    "```\n",
    "conda install -c plotly plotly_express\n",
    "```\n",
    "\n",
    "All plotting commands with plotly_express follow the same pattern:\n",
    "\n",
    "    px.plot_method(data_frame, variable1='column1', variable2='column2', ...)\n",
    "    \n",
    "Here, `plot_method` can be on of the plotting methods supported by the library (see https://www.plotly.express/plotly_express/ for comprehensive documentation). The `data_frame` is the name of the data frame that provides the data to visualize, `variable1`, `variable2` are the names of the plot variables that the plotting method is capable of representing. Here are some examples: `x`, `y`, `color`, `size`, `symbol`, `facet_col`, `facet_row`. The `column1`, `column2` are the names of the columns in the given data frame that map to the visualization variables. \n",
    "\n",
    "Depending on the plot chosen, some variables may be omitted, and the visualization library will automatically fill\n",
    "in something reasonable. Let's have a look at the simplest example:\n",
    "\n",
    "```python\n",
    "px.line(df, y='Temperature_degC')\n",
    "```\n",
    "\n",
    "Here we are calling the plot method `px.line` which is a line plot. The line plot uses two variables: `x` and `y` to put the points on to the coordinate grid and connects them in order. It is possible to give only one of the `x` and `y`, then the other will be automatically filled with an integer from 0 to the number of rows in the data frame. In our example, we specify `y` to map to the `Temperature_degC` column of our data frame, and do not specify `x` mapping."
   ]
  },
  {
   "cell_type": "markdown",
   "metadata": {},
   "source": [
    "## `plotly_express`を用いて可視化 (Visualization with plotly_express)\n",
    "\n",
    "**lang:ja**\n",
    "\n",
    "`plotly_express`というライブラリはデータの簡単な可視化のために開発されました。可視化を簡単にするには、データフレームはキレイな状態に保たなければなりません。このライブラリを使うには、以下のインポートが必要です。\n",
    "\n",
    "```python\n",
    "import plotly_express as px\n",
    "```\n",
    "\n",
    "このコマンドがエラーを返していたら、ライブラリをインストール必要があります。インストール方法はコンピューターシステムによって異なりますので、\n",
    "README.mdに参照するか、TAにお尋ねください。ご参考までこちらはPipを用いたインストール方法です。\n",
    "\n",
    "```\n",
    "pip install plotly_express\n",
    "```\n",
    "\n",
    "Anacondaを使う場合, 以下のコマンドをCondaシェルに入力してください。\n",
    "\n",
    "```\n",
    "conda install -c plotly plotly_express\n",
    "```\n",
    "\n",
    "可視化の命令は全て同じ形です。\n",
    "\n",
    "    px.可視化方法(データフレーム, 変数1='列1', 変数2='列2', ...)\n",
    "    \n",
    "可視化方法はライブラリの説明書をご参照ください （https://www.plotly.express/plotly_express/)。\n",
    "\n",
    "`データフレーム`はデータフレームを指定します。`変数1`, `変数2`は可視化の変数をしていします。可視化方法によって異なりますが、以下の\n",
    "可視化変数はよく使われます：　`x`, `y`, `color`, `size`, `symbol`, `facet_col`, `facet_row`.　\n",
    "\n",
    "`列1`, `列2`はデータフレームに入っている列の参照で、可視化変数とデータを関連づけます。\n",
    "\n",
    "可視化方法によって変数は指定しなくてもよい場合もあります。その場合は可視化変数は自動で生成されます。簡単な例を見ましょう。\n",
    "\n",
    "```python\n",
    "px.line(df, y='Temperature_degC')\n",
    "```\n",
    "\n",
    "`px.line`は線の可視化を指定します。線の可視化には２つの可視化変数を使います： `x`と`y`を省略すれば、0からN-1の整数の区間に自動的になります（Nはデータフレームの行数です）。\n",
    "\n",
    "以下の例では、`y`は気温(`Temperature_degC`)に指定して、`x`は自動で生成されます。"
   ]
  },
  {
   "cell_type": "code",
   "execution_count": null,
   "metadata": {},
   "outputs": [],
   "source": [
    "px.line(df, y='Temperature_degC')"
   ]
  },
  {
   "cell_type": "markdown",
   "metadata": {},
   "source": [
    "**lang:en** You can see that specifying `x` explicitly to map to the time column `Time_Hour` does not change the plot much. The only difference is that the automatic range is varying from 0 to 23, while `Time_Hour` varies from 1 to 24."
   ]
  },
  {
   "cell_type": "markdown",
   "metadata": {},
   "source": [
    "**lang:ja** `x`の可視化変数を明確に指定することも可能です。　以下の例では、`x`に時間(`Time_Hour`)を指定すれば、グラフはほとんど変わりません。\n",
    "違いはたった一つです。`Time_Hour`(時間)の区間は[1,24]ですが、先の自動的に生成された区間は[0,23]でした。"
   ]
  },
  {
   "cell_type": "code",
   "execution_count": null,
   "metadata": {},
   "outputs": [],
   "source": [
    "px.line(df, x='Time_Hour', y='Temperature_degC')"
   ]
  },
  {
   "cell_type": "markdown",
   "metadata": {},
   "source": [
    "**lang:en** Similarly, one can plot any other variable that is present in the data frame. To remind yourself what columns\n",
    "you have in the data frame, use `df.dtypes`."
   ]
  },
  {
   "cell_type": "markdown",
   "metadata": {},
   "source": [
    "**lang:ja** データフレームに入っている変数は全て可視化できます。データフレームに入っている変数を一覧を見るために`df.dtypes`をご参考ください。"
   ]
  },
  {
   "cell_type": "code",
   "execution_count": null,
   "metadata": {},
   "outputs": [],
   "source": [
    "df.dtypes"
   ]
  },
  {
   "cell_type": "code",
   "execution_count": null,
   "metadata": {},
   "outputs": [],
   "source": [
    "px.line(df, y='Pressure_hPa')"
   ]
  },
  {
   "cell_type": "markdown",
   "metadata": {},
   "source": [
    "**lang:en** You can enable the plot to show additional dimensions by providing additional mappings. The mapping `color` makes the points to use color range to represent an additional variable. Here is a different kind of plot, with `x` and `y` showing different variables, and using the color to represent time of the day.\n",
    "\n",
    "This example uses plotting method `px.scatter` which is a scatter plot, where the coordinates of points to plot are given with plot variable mappings `x` and `y`."
   ]
  },
  {
   "cell_type": "markdown",
   "metadata": {},
   "source": [
    "**lang:ja**`x`と`y`の他に可視化変数があります。`color`は色を使ってもう一つの変数を可視化することができます。以下の例は散布図です。`x`と`y`はそれぞれ違うデータ変数を可視化し、色は時間を表します。散布図は`px.scatter`によって指定します。"
   ]
  },
  {
   "cell_type": "code",
   "execution_count": null,
   "metadata": {},
   "outputs": [],
   "source": [
    "px.scatter(df, x='Temperature_degC', y='Pressure_hPa', color='Time_Hour')"
   ]
  },
  {
   "cell_type": "markdown",
   "metadata": {},
   "source": [
    "**lang:en** Another useful additional dimension is `size`. Let's use it to visualize how the amount of rain is related to the temperature."
   ]
  },
  {
   "cell_type": "markdown",
   "metadata": {},
   "source": [
    "**lang:ja**もう一つの便利な可視化変数があります：`size`(大きさ)を使って、雨の量も可視化して、温度や気圧との関係をみてみましょう。"
   ]
  },
  {
   "cell_type": "code",
   "execution_count": null,
   "metadata": {},
   "outputs": [],
   "source": [
    "px.scatter(df, x='Time_Hour', y='Temperature_degC', size='Precipitation_mm')"
   ]
  },
  {
   "cell_type": "markdown",
   "metadata": {},
   "source": [
    "**lang:en** It is possible to use the same column of the data frame for multiple plot variable mapping to make\n",
    "the plot show information in a redundant way, but please take care not to overuse it!"
   ]
  },
  {
   "cell_type": "markdown",
   "metadata": {},
   "source": [
    "**lang:ja**同じデータ変数を複数の可視化変数に用いてもいいです。そうすれば、グラフが読みやすくなることがあります。\n",
    "色などを使いすぎないように気をつけましょう。"
   ]
  },
  {
   "cell_type": "code",
   "execution_count": null,
   "metadata": {},
   "outputs": [],
   "source": [
    "px.scatter(df, x='Time_Hour', y='Temperature_degC', size='Precipitation_mm', color='Precipitation_mm')"
   ]
  },
  {
   "cell_type": "code",
   "execution_count": null,
   "metadata": {},
   "outputs": [],
   "source": [
    "# MASTER ONLY\n",
    "df.melt(id_vars=['Time_Hour'], value_vars=['Temperature_degC', 'Pressure_hPa']).iloc[[0,1,-2,-1]]"
   ]
  },
  {
   "cell_type": "code",
   "execution_count": null,
   "metadata": {},
   "outputs": [],
   "source": [
    "# MASTER ONLY: This example is too confusing.\n",
    "\n",
    "# This example is demonstrating how Grammar of Graphics makes it hard to create confusing plots\n",
    "# when starting from a tidy dataset. E.g it is hard to plot different variables together.\n",
    "# In this example it takes some effort even to try plotting temperature and pressure together,\n",
    "# and even then it does not work well because of different value range. Grammar of Graphics\n",
    "# assumes that all plots shown together have one variable, and as a consequence of that chooses\n",
    "# a single axis scale, which does not work here for both variables, because their ranges\n",
    "# are very different and cannot be plotted with the same axis scale.\n",
    "px.line(df.melt(id_vars=['Time_Hour'], value_vars=['Temperature_degC', 'Pressure_hPa']), x='Time_Hour', y='value', facet_col='variable')"
   ]
  },
  {
   "cell_type": "markdown",
   "metadata": {},
   "source": [
    "**lang:en** Finally, we introduce one special plotting method that does not take almost any inputs, and automatically plots scatter plots of all pairs of variables present in the data frame. This makes it easy to visually see if there are any pairs of the variables that are highly correlated, which looks like regular line-like pattern in the scatter plot. Note, that all plots on the diagonal looks like lines. This is not surprising, because every variable is perfectly correlated to itself!"
   ]
  },
  {
   "cell_type": "markdown",
   "metadata": {},
   "source": [
    "**lang:ja**最後になりますが、ほぼ自動的な可視化方法を紹介しましょう。そればデータに入っている変数を二つずつ利用して、散布図を描きます。　このグラフを見ながら変数同士はどのように関係するのか一目で確認できます。対角線のグラフは全て線に見えますが、それはなぜかというと、どの変数であっても、自分自身に対しては完全に相関するからです。"
   ]
  },
  {
   "cell_type": "code",
   "execution_count": null,
   "metadata": {
    "scrolled": true
   },
   "outputs": [],
   "source": [
    "px.scatter_matrix(df)"
   ]
  },
  {
   "cell_type": "markdown",
   "metadata": {},
   "source": [
    "## 予習課題. データフレームの可視化 （Visualize the dataset）\n",
    "```\n",
    "# EXERCISE METADATA\n",
    "exercise_id: \"VisualizeDataset\"\n",
    "```"
   ]
  },
  {
   "cell_type": "markdown",
   "metadata": {},
   "source": [
    "**lang:en**\n",
    "Load the weather data set from `data/15-July-2019-Tokyo-hourly.csv` and\n",
    "visualize the amount of sunshine per hour and find out from the plot which hour had most sunshine."
   ]
  },
  {
   "cell_type": "markdown",
   "metadata": {},
   "source": [
    "**lang:ja**\n",
    "天気についてのデータを`data/15-July-2019-Tokyo-hourly.csv`から読み込んで、\n",
    "日向の量（`SunshineDuration_h`）を可視化して、どの時間帯で日向が一番多かったかを見つけてください。"
   ]
  },
  {
   "cell_type": "code",
   "execution_count": null,
   "metadata": {},
   "outputs": [],
   "source": [
    "%%solution\n",
    "\"\"\" # BEGIN PROMPT\n",
    "df15 = pd.read_csv(...)\n",
    "px.___(...)\n",
    "\"\"\" # END PROMPT\n",
    "# BEGIN SOLUTION\n",
    "df15 = pd.read_csv('data/15-July-2019-Tokyo-hourly.csv')\n",
    "px.bar(df15, x='Time_Hour', y='SunshineDuration_h')\n",
    "# END SOLUTION"
   ]
  },
  {
   "cell_type": "markdown",
   "metadata": {},
   "source": [
    "**lang:en** The expected answer is 13 and 14, which both had 0.1h of sunshine. Please check if your plot clearly shows that."
   ]
  },
  {
   "cell_type": "markdown",
   "metadata": {},
   "source": [
    "**lang:ja** 答えは13時と14時です。両方とも日向の時間は0.1でした。可視化によってそれははっきり見えるかご確認ください。"
   ]
  },
  {
   "cell_type": "code",
   "execution_count": null,
   "metadata": {},
   "outputs": [],
   "source": [
    "%%inlinetest FigureTest\n",
    "try:\n",
    "  df15\n",
    "  assert len(df15) == 24, \"Did you load the right data set? Expected to see 24 rows, but got %d\" % len(df15)\n",
    "except NameError:\n",
    "  assert False, \"Your code does not define df15\"\n",
    "# Check the submission syntactically.\n",
    "import ast\n",
    "# This import will be uncommented when executed on autograder server.\n",
    "#import submission_source\n",
    "try:\n",
    "  a = ast.parse(submission_source.source)\n",
    "  assert len(a.body) > 0, \"Is your code submission empty?\"\n",
    "  e = None\n",
    "  for x in a.body:\n",
    "    if x.__class__ == ast.Expr:\n",
    "      e = x\n",
    "      break\n",
    "  assert e is not None, \"Your code does not have any function call in it?\"\n",
    "  assert e.value.__class__ == ast.Call, \"Do you have a function call in your cell? The code may be okay, but I am just not sure\"\n",
    "  assert e.value.func.__class__ == ast.Attribute, \"I do not recognize your function call. The code may be okay, but I am just not sure\"\n",
    "  assert e.value.func.attr in set(['line', 'bar', 'scatter']), \"Expected to see a px.line() or px.bar() or px.scatter plot, but got %s. This may be okay, but I am just not sure\" % e.value.func.attr\n",
    "except AssertionError as e:\n",
    "  raise e\n",
    "except SyntaxError as e:\n",
    "  assert False, \"Your code does not compile: %s\" % e\n",
    "except IndentationError as e:\n",
    "  assert False, \"Something is wrong with the test: %s\" % e\n",
    "except Exception as e:\n",
    "  assert False, \"Something is wrong with the test: %s\" % e\n",
    "# TODO(salikh): Implement a library for easy checking of syntactic conditiions.\n",
    "#assert ae.TopExprIsCall(a), \"Your \""
   ]
  },
  {
   "cell_type": "code",
   "execution_count": null,
   "metadata": {},
   "outputs": [],
   "source": [
    "# MASTER ONLY\n",
    "# This visualization should work as well.\n",
    "px.line(df15, x='Time_Hour', y='SunshineDuration_h')"
   ]
  },
  {
   "cell_type": "code",
   "execution_count": null,
   "metadata": {},
   "outputs": [],
   "source": [
    "%%submission \n",
    "px.line(df15, y='SunshineDuration_h')"
   ]
  }
 ],
 "metadata": {
  "kernelspec": {
   "display_name": "Python 3",
   "language": "python",
   "name": "python3"
  },
  "language_info": {
   "codemirror_mode": {
    "name": "ipython",
    "version": 3
   },
   "file_extension": ".py",
   "mimetype": "text/x-python",
   "name": "python",
   "nbconvert_exporter": "python",
   "pygments_lexer": "ipython3",
   "version": "3.6.6"
  }
 },
 "nbformat": 4,
 "nbformat_minor": 2
}
