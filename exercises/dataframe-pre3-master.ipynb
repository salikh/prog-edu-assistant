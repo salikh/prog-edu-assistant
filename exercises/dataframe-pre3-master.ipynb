{
 "cells": [
  {
   "cell_type": "code",
   "execution_count": null,
   "metadata": {},
   "outputs": [],
   "source": [
    "import io\n",
    "\n",
    "import numpy as np\n",
    "import pandas as pd\n",
    "import plotly_express as px"
   ]
  },
  {
   "cell_type": "code",
   "execution_count": null,
   "metadata": {},
   "outputs": [],
   "source": [
    "# MASTER ONLY\n",
    "import ast\n",
    "# imports %%solution, %%submission, %%template etc.\n",
    "%load_ext prog_edu_assistant_tools.magics\n",
    "from prog_edu_assistant_tools.magics import report, autotest"
   ]
  },
  {
   "cell_type": "markdown",
   "metadata": {},
   "source": [
    "# Data frames 3: 簡単なデータの変換 (Simple data manipulation)\n",
    "\n",
    "```\n",
    "# ASSIGNMENT METADATA\n",
    "assignment_id: \"DataFrame3\"\n",
    "```"
   ]
  },
  {
   "cell_type": "markdown",
   "metadata": {},
   "source": [
    "**lang:en**\n",
    "In this unit, we will get acquainted with a couple of simple techniques to change the data:\n",
    "\n",
    "* Filter rows based on a condition\n",
    "* Create new columns as a transformation of other columns\n",
    "* Drop columns that are no longer needed\n",
    "\n",
    "Let's start with reading the data."
   ]
  },
  {
   "cell_type": "markdown",
   "metadata": {},
   "source": [
    "**lang:ja**\n",
    "この講義では、簡単なデータの変換を紹介します。\n",
    "\n",
    "* 行を条件によりフィルター（抽出）します\n",
    "* データ変換によって新しい列を作ります\n",
    "* 必要だけの列を抽出します\n",
    "\n",
    "まずはデータを読み込みましょう。"
   ]
  },
  {
   "cell_type": "code",
   "execution_count": null,
   "metadata": {},
   "outputs": [],
   "source": [
    "# データをCVSファイルから読み込みます。 Read the data from CSV file.\n",
    "df = pd.read_csv('data/15-July-2019-Tokyo-hourly.csv')"
   ]
  },
  {
   "cell_type": "code",
   "execution_count": null,
   "metadata": {},
   "outputs": [],
   "source": [
    "print(\"データフレームの行数は %d\" % len(df))\n",
    "print(df.dtypes)\n",
    "df.head()"
   ]
  },
  {
   "cell_type": "markdown",
   "metadata": {},
   "source": [
    "**lang:en** Let's consider the question of how one should hold an umbrella when it rains.\n",
    "Depending on the wind direction, it's better to slant the umbrella towards the direction\n",
    "the rain is coming from. Therefore, one needs to know the wind direction when it rains.\n",
    "First step is to limit the data to the hours when there was rain. To accomplish that,\n",
    "we _filter_ the data set by using a condition. The condition is placed in square brackets\n",
    "after the dataframe.\n",
    "\n",
    "Technical details:\n",
    "* The inner `df['Precipitation_mm']` extracts a single column as a pandas `Series` object.\n",
    "* The comparison `df['Precipitation_mm'] > 0'` is evaluated as a vector expression, that computes\n",
    "the condition element-wise, resulting in a `Series` object of the same length with boolean elements\n",
    "(true or false).\n",
    "* Finally, the indexing of a data frame by the boolean series performs the filtering of the rows\n",
    "in the dataframe only to rows which had the corresponding element as `True`. Note that the original\n",
    "data frame is left unmodified. Instead, a new copy of a data "
   ]
  },
  {
   "cell_type": "markdown",
   "metadata": {},
   "source": [
    "**lang:ja**雨の中の傘の持ち方について考えましょう。風の向きによって、適切な持ち方が変わります。風が来ている方向に傾けると傘の効率がよくなります。\n",
    "したがって、雨のときの風の向きを調べなければいけません。\n",
    "まずは雨のなかったデータを除きましょう。そのために条件をつけてデータをフィルターします。\n",
    "条件はデータフレームの参照の後に角括弧に入ります。\n",
    "\n",
    "詳しく述べると：\n",
    "\n",
    "* 角括弧に入っている`df['Precipitation_mm']`は一つの列を抽出します。それはpandasの`Series`オブジェクトになります。\n",
    "* 比較表現　`df['Precipitation_mm'] > 0'` は各行ごとに評価されます、真理値のベクターになります。それも`Series`です。長さはデータフレームの行数です。\n",
    "* データフレームの後に角括弧に真理値ベクターを入れるとFalseの行が除かれます。\n",
    "\n",
    "結果のデータフレームは新しいデータフレームです。既存のデータフレームは変わらないままで、フィルターされたデータフレームを新しい変数に保存します。"
   ]
  },
  {
   "cell_type": "code",
   "execution_count": null,
   "metadata": {},
   "outputs": [],
   "source": [
    "# This is an example of filtering rows by a condition\n",
    "# that　is computed over variables in the dataframe.\n",
    "# 条件によってデータフレームをフィルターします。\n",
    "df2 = df[df['Precipitation_mm'] > 0]\n",
    "len(df2)"
   ]
  },
  {
   "cell_type": "markdown",
   "metadata": {},
   "source": [
    "**lang:en** So it was 11 hours out of 24 in a day that the rain was falling. Let's see what the distribution of wind directions was."
   ]
  },
  {
   "cell_type": "markdown",
   "metadata": {},
   "source": [
    "**lang:ja** 一日の24時間の中に雨が降っていたは１１時間がありました。　風の向きを可視化しましょう。　`px.histogram`は`x`の値を数えて、個数を棒グラフとして可視化します。"
   ]
  },
  {
   "cell_type": "code",
   "execution_count": null,
   "metadata": {},
   "outputs": [],
   "source": [
    "px.histogram(df2, x='WindDirection_16compasspoints')"
   ]
  },
  {
   "cell_type": "markdown",
   "metadata": {},
   "source": [
    "**lang:en** Now we can clearly see that NE was the prevailing wind direction while it rained.\n",
    "\n",
    "Note that the result may have been different if we did not filter for the hours with rain:"
   ]
  },
  {
   "cell_type": "markdown",
   "metadata": {},
   "source": [
    "**lang:ja**雨が降ったときに風はNEの方向に吹いたことがわかります。雨だけのデータにフィルターしなければ、グラフは異なる結果がえられます。\n",
    "以下は`df`は元のデータフレームで、フィルターされたデータフレームは`df2`です。"
   ]
  },
  {
   "cell_type": "code",
   "execution_count": null,
   "metadata": {},
   "outputs": [],
   "source": [
    "px.histogram(df, x='WindDirection_16compasspoints')"
   ]
  },
  {
   "cell_type": "markdown",
   "metadata": {},
   "source": [
    "**lang:en** We can plot the whole data and use the color dimension to distinguish between hours when it rained or not by using a different technique: instead of filtering rows by some condition, we can introduce the condition \n",
    "as a new boolean variable. This is done by assigning to a new column in the data frame:"
   ]
  },
  {
   "cell_type": "markdown",
   "metadata": {},
   "source": [
    "**lang:ja**フィルターに変わりに、可視化によって同じデータを確認ができます。たとえば、雨が降ったかどうかを色で表現します。\n",
    "そのために新しい真理値の列を作らなければなりません。以下の例は`df`のデータフレームに新しい列を追加します。"
   ]
  },
  {
   "cell_type": "code",
   "execution_count": null,
   "metadata": {},
   "outputs": [],
   "source": [
    "# This creates a new column named \"rained\" that is a boolean variable \n",
    "# indicating whether it was raining in that hour.\n",
    "# 新しい真理値の列'rained'を追加します。\n",
    "df['rained'] = df['Precipitation_mm'] > 0\n",
    "px.histogram(df, x='WindDirection_16compasspoints', color='rained')"
   ]
  },
  {
   "cell_type": "markdown",
   "metadata": {},
   "source": [
    "**lang:en** Now let's consider how could we present the same data in a tabular form. If we do not do anything,\n",
    "all existing columns in the data frame would be shown, which may make it hard for the reader\n",
    "to see the point of the author. To make reading the data easier, we can limit the data output\n",
    "just to columns we are interested in."
   ]
  },
  {
   "cell_type": "markdown",
   "metadata": {},
   "source": [
    "**lang:ja** 今まで解析してきたデータを表の形に表示について考えましょう。　`df`のデータフレームをそのまま表示するとたくさんの列が出て、\n",
    "どのデータを見せたかったのはとてもわかりにくくなります。　それを解決するために、見せたい列だけを抽出しましょう。"
   ]
  },
  {
   "cell_type": "code",
   "execution_count": null,
   "metadata": {},
   "outputs": [],
   "source": [
    "# そのままだとデータが多すぎて混乱しやすい。\n",
    "# その表を見せてなにがいいたいのか分かりづらい。\n",
    "df"
   ]
  },
  {
   "cell_type": "code",
   "execution_count": null,
   "metadata": {},
   "outputs": [],
   "source": [
    "# 列の名前の一覧を見ましょう。\n",
    "df.dtypes"
   ]
  },
  {
   "cell_type": "code",
   "execution_count": null,
   "metadata": {},
   "outputs": [],
   "source": [
    "# Indexing by list of column names returns a copy of the data frame just with the named\n",
    "# columns.\n",
    "# 列の名前を二重角括弧に入れると、列の抽出ができます。　列の名前は以上の`dtypes`の一覧によって確認できます。\n",
    "df[['Time_Hour', 'WindDirection_16compasspoints', 'rained']]"
   ]
  },
  {
   "cell_type": "markdown",
   "metadata": {},
   "source": [
    "## 予習課題: データの変換 (Data manipulation)\n",
    "\n",
    "```\n",
    "# EXERCISE METADATA\n",
    "exercise_id: \"DataManipulation\"\n",
    "```"
   ]
  },
  {
   "cell_type": "markdown",
   "metadata": {},
   "source": [
    "**lang:en**\n",
    "Starting with the weather data frame `df` defined above, filter out the data set consisting only of the day hours when sun was shining (i.e. variable `SunshineDuration_h` > 0), and containing only the following columns:\n",
    "* `Time_Hour` -- extracted from the original data frame.\n",
    "* `WindDirection_16compasspoints` -- extracted from the original data frame.\n",
    "* `rained` -- the boolean indicator of whether it was raining or not (`Precipitation_mm > 0`). This is a new column that is not present in the original data, so it should be added."
   ]
  },
  {
   "cell_type": "markdown",
   "metadata": {},
   "source": [
    "**lang:ja**\n",
    "以上に定義した`df`のデータフレームを使って、以下のデータの表を抽出しましょう。\n",
    "* 日が出ていた時間帯のみ (すなわち、`SunshineDuration_h` > 0)\n",
    "\n",
    "以下の列だけを抽出しましょう。\n",
    "* `Time_Hour` -- 元のデータフレームから抽出しましょう。\n",
    "* `WindDirection_16compasspoints` -- 元のデータフレームから抽出しましょう。\n",
    "* `rained` -- 雨があったかどうかの真理値列　（すなわち、`Precipitation_mm > 0`)。こちらの列は元のデータに入ってないため、追加しなければなりません。"
   ]
  },
  {
   "cell_type": "code",
   "execution_count": null,
   "metadata": {},
   "outputs": [],
   "source": [
    "%%solution\n",
    "\"\"\" # BEGIN PROMPT\n",
    "# Note: you can do multiple steps to get the data frame you need.\n",
    "# 複数の段階に分けてデータ処理してもよい。\n",
    "df['rained'] = df[...]\n",
    "sunny_df = df[...]\n",
    "sunny_df = sunny_df[...]\n",
    "\"\"\" # END PROMPT\n",
    "# BEGIN SOLUTION\n",
    "df['rained'] = df['Precipitation_mm'] > 0\n",
    "sunny_df = df[df['SunshineDuration_h'] > 0]\n",
    "sunny_df = sunny_df[['Time_Hour', 'WindDirection_16compasspoints', 'rained']]\n",
    "# END SOLUTION"
   ]
  },
  {
   "cell_type": "markdown",
   "metadata": {},
   "source": [
    "**lang:en**Note: if you see a warning `SettingWithCopyWarning`, it means that you are trying to apply transformation\n",
    "to a data frame that is a copy or a slice of a different data frame. This is an optimization that Pandas\n",
    "library may do on filtering steps to reduce memory use. To avoid this warning, you can either move the new column computation before the filtering step, or add a `.copy()` call to the filtered data frame to force\n",
    "creating of a full data frame object."
   ]
  },
  {
   "cell_type": "markdown",
   "metadata": {},
   "source": [
    "**lang:ja**もし`SettingWithCopyWarning`のエラーが出たら、データフレームのコピーに変更を行うという意味なのです。`pandas`は、データ抽出のときに\n",
    "    自動的にコピーしないような最適化の副作用です。解決のために、データ変更は先にするか、抽出の後に`.copy()`を呼び出すことができます。"
   ]
  },
  {
   "cell_type": "code",
   "execution_count": null,
   "metadata": {},
   "outputs": [],
   "source": [
    "# Inspect the data frame\n",
    "sunny_df"
   ]
  },
  {
   "cell_type": "code",
   "execution_count": null,
   "metadata": {},
   "outputs": [],
   "source": [
    "%%studenttest StudentTest\n",
    "# Test your solution\n",
    "assert len(sunny_df) == 2, \"The result data frame should only have 2 rows, yours has %d\" % len(sunny_df)\n",
    "assert np.sort(np.unique(sunny_df['Time_Hour'])).tolist() == [13, 14], \"Sunshine was during 13h,14h, but you got %s\" % sunny_df['Time_Hour']\n",
    "assert np.all(sunny_df['rained'] == False), \"It was not raining during sunshine hours!\""
   ]
  },
  {
   "cell_type": "code",
   "execution_count": null,
   "metadata": {},
   "outputs": [],
   "source": [
    "%%inlinetest AutograderTest\n",
    "\n",
    "# This cell will not be present in the students notebook.\n",
    "\n",
    "assert 'sunny_df' in globals(), \"Did you define the data frame named 'sunny_df' in the solution cell?\"\n",
    "assert sunny_df.__class__ == pd.core.frame.DataFrame, \"Did you define a data frame named 'sunny_df'? 'sunny_df' was a %s instead\" % sunny_df.__class__\n",
    "assert len(sunny_df) == 2, \"The data frame should have 2 rows, but you have %d\" % len(sunny_df)\n",
    "assert np.sort(np.unique(sunny_df['Time_Hour'])).tolist() == [13, 14], \"Sunshine was during 13h,14h, but you got %s\" % sunny_df['Time_Hour']\n",
    "assert np.all(sunny_df['rained'] == False), \"It was not raining during sunshine hours!\"\n",
    "assert np.all(np.sort(np.unique(sunny_df.columns)) == ['Time_Hour', 'WindDirection_16compasspoints', 'rained']), (\"Expected to see 3 columns: rained, Time_Hour, WindDirection_16compasspoints, but got %d: %s\" % (len(np.unique(sunny_df.columns)), np.sort(np.unique(sunny_df.columns))) )"
   ]
  },
  {
   "cell_type": "code",
   "execution_count": null,
   "metadata": {},
   "outputs": [],
   "source": [
    "%%submission\n",
    "df['rained'] = df['Precipitation_mm'] > 0\n",
    "sunny_df = df[df['SunshineDuration_h'] > 0]\n",
    "#sunny_df = sunny_df[['Time_Hour', 'WindDirection_16compasspoints', 'rained']]"
   ]
  },
  {
   "cell_type": "code",
   "execution_count": null,
   "metadata": {},
   "outputs": [],
   "source": [
    "import re\n",
    "result, logs = %autotest AutograderTest\n",
    "assert re.match(r'Expected to see 3 columns.*', str(result.results['error']))\n",
    "report(AutograderTest, results=result.results, source=submission_source.source)"
   ]
  }
 ],
 "metadata": {
  "kernelspec": {
   "display_name": "Python 3",
   "language": "python",
   "name": "python3"
  },
  "language_info": {
   "codemirror_mode": {
    "name": "ipython",
    "version": 3
   },
   "file_extension": ".py",
   "mimetype": "text/x-python",
   "name": "python",
   "nbconvert_exporter": "python",
   "pygments_lexer": "ipython3",
   "version": "3.6.6"
  }
 },
 "nbformat": 4,
 "nbformat_minor": 2
}
